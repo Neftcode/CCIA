{
  "nbformat": 4,
  "nbformat_minor": 0,
  "metadata": {
    "colab": {
      "name": "[HPC-03]Parcial_II_Linear_Regression_Comprobation.ipynb",
      "provenance": [],
      "collapsed_sections": []
    },
    "kernelspec": {
      "name": "python3",
      "display_name": "Python 3"
    },
    "language_info": {
      "name": "python"
    }
  },
  "cells": [
    {
      "cell_type": "markdown",
      "source": [
        "![logoU.jpeg](data:image/jpeg;base64,/9j/4AAQSkZJRgABAQAAAQABAAD/2wCEAAkGBxETEhERExIVEBUVExYSFxgYFRgWFxYSGhgYFh0SFhYYKCgiGh8lJxUXITEhJSkrOjEvFyEzODMsQyotLisBCgoKDg0OGxAQGy0mICU3Ly0yKzAvLi0tLS8tLS0tLy0tLy0tLS0tLS0tLS0tLS0tLS0tLS0tLS0tLS0tLS0tLf/AABEIAOEA4QMBIgACEQEDEQH/xAAbAAEAAgMBAQAAAAAAAAAAAAAABgcDBAUCAf/EAEoQAAICAgECAwUEAwoKCwAAAAECAAMEERIFIQYTMRQiQVFhIzJxgQdzkRUkNEJSYoKhsbIWJTZTVHKTwcPRM0NkZXSDkrPC4fD/xAAaAQEAAwEBAQAAAAAAAAAAAAAAAQIDBAUG/8QANREAAgECAwQJAgUFAQAAAAAAAAECAxESITEEQVFhBRNxgaGxwdHwIpEyUmJy4QYzc7LxI//aAAwDAQACEQMRAD8AvGIiAIiIAiIgCIiAIiIAiIgCIiAIiIAiIgCIiAIiIAiIgCIiAIiIAiIgCIiAIiIAiIgCIiAIiIAiIgCIiAIiIAiIgCIiAIiIAiIgCIiAIiIAiIgCIiAIiIAiIgCIiAIiIAiafVbWSi51OmWp2B9dEKSDoyosTxJ1p8N84ZdQRN7U1JyOiAdaTXx+cNwisU5JJtRz4vRabykp2drN6v7F0xKdt651paci85dZWi5qHHlJvasqlx7np7wb8JtU9Q6419uOM2nlVWlhPlLxKvvQHub32mT2nZ1FydWNle+u7Dfd+qP3QUm7fS8/558mWxEoPG/SB1Z1scZKgVhGbdVfozqgP3fmwndz+sdbqbIU5lTeRQMhiKk0UJYBRtPX3DN6uClPBUnFPv8A08v1R+5SFbGrxi/nfyZb8So8fqnW2fHQZlO76WvU+UmgoCHTe56/aD0+RnR8Kde6iepnByr0uC1FzxrVQTxVhohQf40yp1aNVuNOpFuzdlfRPC3pxyLubVrxavlu9yy4iJcuIiIAiIgCIiAIiIAiIgCIiAIiIAiIgCIiAIiIBo9b/g2R+ps/uGVD0Uf4gyv/ADf7ZbvW/wCDZH6mz+4ZUnh8f4hyfwu/sE4ukv7FP/LS82VX9x/tl6HZ6Xji3918X+W4b/bY66P7R/VNTwLm+dc9h+8cDGVv1i80b+tTNvw7ZrPvH+dwsW//ANK8N/1zUToje3Zwxbmw2VKH91Q6Mzhy3NG+q/DWtmfNSdKSrU5u2KnTkpapXVNSva7zaWidrXN/q+iSzs2rfe3LTmV90PJrWvMSzf2uPwTQJ+0Do6716D3fWTprjdi9TyuLKtmJRUpZSvLhWSxXfqOTkbHbtIr4JG6+pj59Pv8A7BJ1Y2+ib/7Go/YAJ73TdaK2xRUc3Upxbv8AmwSyVsvwJPN3zZx7JFule+Vpeq9T30o7t6Sf+7X/ALuPPPRP8obf1H/DrmHw5mV2XdNRHV2q6ayWBTvgSKNK3yPunt9J88OZK2eILmU7AqZN/wA5UrVh+RBH5Th6HpTjt0sSatTl41WdFaSwRt+ZeRbMRE+iIEREAREQBERAEREAREQBERAEREAREQBERAEREA0Ot/wbI/U2f3DKW8FdRC0DDye2Nl+Ylbg642dlasn4b2pB+BP17XV1v+DZH6mz+4ZVvgjpFOV0sU3LyXzrCCOzK3b3lPwPr+2cPSlalS2NusnhxRV1rF2laUecXnzV1vKKMpVVh1s+x6ZPtNLKxsvD6jjitxmNZQ1NYs0h8pdt5RYaGxx7MfnOj0/r615eVZmVvhG1KEUOCylkFm9WAcSPeHeeMzwfnJZRbTlLkezkmoX7BUH+KWXfIfjr8psZHWOpqpTI6YmQpGm8tgykf6nvn9s8erOjtUIqLp1G4YZNSVKf4rq0ZWi9I3WF54s8zRKVNu+JZ3StiWnK78SF+A6ch3yKqFQmzHapzYxARGIBYcQST39JJ+reGbKcGwX51jiqlvLqXVdZIBIVh62d/nI3+jnpgyLrEN11QFXImp+BYclHFj37d/SWJT4KwQeTVeY3zsd3J/EE6/qnZ050jT2XpBpza/BJqNOLk2l+aTVssvpWmt9+WyUXUoLLitXbPkvU4WB4gxcbArqxij5T0pquteTtksoBZ9fEEkkE/DUx+AOnmjq4pP3lxQX773Y1dbMd/Hux7ydYeDTUNVVJUP5iKv8AZIv0X/KK3/w//DrnN0Bt1OttNWFNNYlKcnJ3bd4paJWUbu2urzNdopOKg5WyaSSVkv8ApacRE+jIEREAREQBERAEREAREQBERAEREAREQBERAEREAw5VQdHQ+jKyn8CNf75T/gvq64Bt6fmfYOtxKMw0hBAH3vgCV2GPY8vWXNOP4g8OYuYnC+sPr7rDs6fVWHcfh6H4gzHadmpbVRdCtfC7O61TWjXHV5FfqjJTjqvszUB33HeH9D+EhN/QeqdLJOKTn4o7+We7oPoo7j8U38ys6fQ/GeJk+4GNNp2PLs7Et8lb0b8PX6T4TpD+ndq2X64f+kPzRWn7o6rxXM7aW1wm8Msnz9Hv8+RDP0Q/wi79R/8ANZa8qP8ARXkpXde9jrWq0bLMQAPfX1JkmzfGr3v7P06hsq0/xypCKPno6/a3EfjPX/qLozadu6WmqEbq0bt5RWS1by9eBy7FXhS2ZYnxy368CU9U6rRjp5l1grX4b9WPyVR3Y/hI3+jyqzL6hk9T4FKeJqrLfxj7i9vnoId/VtfAzb6J+jo2OMnqVpyrfXywfs1HwBPbf+qND19ZYdNSooVVCqo0AAAAB8AB6Cev0V0TS6OjJqWKclZvSKV07RWr01duSRFSpOs02rJZ239/sZYiJ6YEREAREQBERAEREAREQBERAEREAREQBEj3ifxA2Kcauun2i3ItNSJz4HsNl/Q+6O2z8NiYuueJHx8nCxvIFhyiVDebxCMpXlsce4AYEH4/SWUW9Plirml84kmiQTH/AEiVDMfEvqNAFr0i3nyrNinXEnQ472O/w2N/OdDJ8Vur9ST2cH2GtbSfN15ispsGvd908VY/HvofHcl05LVcyFUi9GSuJBsPx27WYCviitc3Zrfz96AOiGHAe93Xt/OHedjrPXbKsnGxaqBe94sbZt4BFr0Sze63bv2+vaHTksmvi1CqRauiQyL+J/BOJmhi6Cu3Xa1Bp9/Dl8HH0P5anO6H40zMuoX0dN5oWK7OVWvca2NMPrPXUfGd9Iww+CRbk2WVCs3BSti2cAC3HRDbUhvr+cmMJxllk+1FZTg456djIp4a/RPZ5z+2EeSjaUI3e748tjui9/x3v09TavTemU46CumpKVHwVQO/zPzP1M4GJ4tcZNWJlYr4llwY1HzEtR+I2RyX0P5fL5iYKvF2Te9/sWF7TVTYamd71q52L6rWpB36judesvUlUqfi08OHYVpqnBfT/PuTOJC8vx0FwPb1xnIW3ynrdvLZW3xJVtEON6Gx9fiCIz/GF6ZNGImF51tuOuQAuQqgAhtrt1A7cG/Ht+Ez6ufDj4amnWR+cyaRIt0jxetmR7HkUWYWQRyVLCrLYO5+zsXs3of2H5GYvGvjRMBqlNTXFwXfi2vLqDKnmHsfUtoenf4wqcnLClmHUiliuS6JH/FfiL2TF9rWsXptNgPw91+wYHR36jt9ZyrfG9tASzMwLsaluP2qul6Ly9C4Tuo/L9sKEpaB1Ip2ZNYmGi5XVXQhlYBlI7gqRsEH5GZpQuIiIAiIgCIiAIiIAiJoZnVsekhbb6qSfQPYqE/gGMBuxvxNW3MqVQ7WIqn0YsAp337E9jMX7s43+kU/7RP+cWIuiGdfy1p65hWXkJUcV66mYgKtxLBu59NgqN/zhPfjSxT1PoeiD9pd6Hf+akm6scG4GrIaiwA/dsZDxYdvQnYM1MHwd0xSltWNUCCGV136juCCDNlNKzaeSt5mTg3dLjc4HQ+i0Zn7sUXLyU9QsIP8ZG4rp1PwI/8Aozi9FwLcevxDRdZ5z14iIH/lVii7h6/zeI139PUyfYj9OxrbES2im21uTqbQGZ+/cqx3vuYzOlYKm5rRWhyRqws/HzQNHR2e4Hb8jqFUaus7O3mvYh007Per+vuQXquCz9CwcmvtbiCvIU/IBiG/Idm/oTv+DcsZuXl9SA+zWuvDp36gAC2zsf5zKPykkGDiUYzVarqxyrKVZtV8X3sbY+h2f2zH0SrC8k1Yhqan3gRU4YDl691PYncSqJxeW/XkyVC0lnu8UV/+i7w/7R0/l7VlUbexeNV3BfQe9x1695tePBuzotVNw5JkeQLAA/GxWpTkV9CQe/EyV/4BdL/0Or9h/wCc9V+GunEpUtNRNDc1UMd1MSG5aB2pJAO/oJZ1U54s9+VlvuV6tqOH37SKdGrf91zV1G5r7qUL4bcVStkYHkwrQfe0D8T91vXQM8dP6Fj5hyMvpuZfgHzmDjfuM40xdqthlBLHs3pr0HpJr1WjAe2t7zT5tJ2hZwrp6N8wR8DNLqHhXpWQWybKan33axXKqfmXKEA/iZCq781klut9ufuHT3ZPvz+/zwID1TrN+T0PL84rY1OUlIsUALYAyHkNAA+vqANjUkN5A6504nt+8P8AdfJE+F0x6Uxf3salba1B1C8u/fip7nuT+MzZnhHAtKtbjJYVRawW5HSL2C9z6CT1sdLW18SVTfG+ngRf9IGTXbmdLooYPkplLYeJBKVDRbkR6dl3r5KZo29LzOo2Z+RSccU3bw0Noct5NJ1zqKdgC4Ld99x9JL+l4fSq2enH9lSxgUZa2TzCp9V7Hl+U38SnEw0FKGvGTZKoXCjZ9SoY/wBkr1llZLPn239icF3dv5axV3UOpNZ4ftpftbi3V4zj4gJYOP7B7v4qZOfFnUMevpdoudffxTWq7G2sNelVR896P01v4Tcv8KdOC2s9FYVzzsLFgGIJPJyT37sTs/OaeL0PolbB1rxAwOwSyNo/MciZZzjLc9b/AHt7EKEorNrSxsfo6osTp2Gtmw3l70fUIWZkGvhpSsk00X6pjrrd9S7AYbsUbU+jDv3H1mzj3o42jK4+akEftEwk222zWNkkjLE18nKrr0XdawToFmC7PyG/jNiQWEREAREQBERAEqbJwL8TKzbcjpi9UqvtawWgLbYlZJIr4EEgAaGtD09SNatgyDY/Qep4lmR7HbjXV32m798m3zEcgDXNN8wAAO/yH56U3a/8+a0MqivYi/Unw26DleymziMhGZLPvUu1yHy1XuFABAHH17k9yZ2cHpNdi49b9DqrSzir3/vfkFK78weV74JIHftrfeZb/Ad5wcnH82t78vIF91hBVAQwfSKAT6j46+8foJ0vYutirykuwU0nBXCXFl0NBhyJG/xBH0mspxaye9635dhnGMt63LhzInnX4lXV+qPk4pyq1rqbQoW4J9lUTYwbso9femLGuuxun9TzcdTjUZFlfsycgTWrOUa0BSQhPLQHwK/QSadJ8OXp1DLzLGqevIrWsqCxYcVRASCNHfA7H1+MwdB8HPSmZh2MluFcWNabbzK+R+73GvrsH1XfxOnWQ/177a95Cpy8/E84Xg/AXp4Bx0uLY/mNZwRrmcpyLq7fHZJHcCRbxFbi2dL6b7Olnkrm11IbdFmAWwMfU9iQe3b07DWpJMLofVsWs41F+Lk0BSieeLEsRD2C7rBBA+v5a9BpHwLmfufh4XOgNj5BvLcnKsNsQo90H/rG3/qj59oUkndyvn7+JMk7ZR3exkpxlz+sZVeSBZThIgqpbunNgN2Mvox9fX5r8pi/SFh14L4WdiouPZ7QtLisBBbWwLFXVex+5r+l9Brtda8MZHtQz8Kyum8pwtSwE1XAa1yK9wew7gfxR6d94T4ZzMrIou6hZT5dDeZXRQHKGzsQ9jvonWvTX9p2U1dO+SWndw58SXF2atnfX5wJX1XNSim29/u1o1h/BQToSlfDHXKas7DyBf5lmV5iZg4uAlltm10WABA5IOxI+zPzlp+NOkX5dC0VGsI1iNaHLDnWpDeWOIOtkDZ+X4x438PNm4jY6cFfkjKzbAQqfUaBPpsfnIoyjFWe/J8l8z7iasZSd1u+fO0h/is0L1pGuxjlJ7ECUWkXEnlZ75Q/LXr8J48K4y2nqWZj1ez4NuM9a1HiA9yqN2eWpITWmGv58kOF4czP3QozrnpbhijGcKX2x0xNg2Ndy3p8p5xPCmRj25wx3q9myVcipuQNdzLrkugRx2T2+Wv5Pecaw2vnZdmvnwIwtyvbK/oQXo+KrdIP+KvPY13aytU7B5v9psfanh8tfxflO11rML4PR8KrINleU9dFlykgtWpVGr97uO760f5Gj8ROx0bw91bGxVw67sNUAcBylrWDmzMSPRd+8ddpnb9H9fsFOELStlLG6u4DRW4sWLBd/d761v4A72JeVSGK999+O559ztlv4FVTlhslutuXdl8Rs9d8GYBw7a0x6qSlTNW6qA6Oo2H8we8e4G9nv8ZCmz3ycbw/bd77+3LUzEbLKtqqN79dgDfzMleX0nrN9Rxrr8Suthwe2tbDc6ehHA6VSR66Px7T51zwXaa+n1YbVVrh2C1fN5Hk4Ib3gg77IJPcespGaStJ3z9GvEtKLbul8vfwJZ1hAce8EbHlP2PcfdMqjwhjf4trsHRa89gtpFzezE2EO/Yht2HWuOtb93t8JOGw+r2HVtuIE4WLxrFq82ZGVeRbl7oJB7fKaPh7ofVsPHrxqrMJkTloutxb3mZzsggerH4SsGlBq61XHg+BMk3JOz38DneJOkY46n0XHNKGry7k8tlDLwVCQpDb2B9Z88X4FfS7cXOw18gPetF1Sdq7UYM33PQEBGHb4kGb2d4a6lZdhZPnYzXYwt2WD8Gaxm7BVA0qqVA777d/rsWeFczJupuzsiqxKW8yuilGSs2juGdmJJH/AO7bO7qaWG8skndcdSri3ey7OWhGP0o9Sxr8i3Fuu8sY+MxrHF2D5r8WCngDoBVA2f8AOH5GTzwH1n2vBouJ24Hl2frE90n8+zf0p58H9GuxkyDeUe27Ie9mQsQeWtL7wGta0B8preD/AA5fh3ZhLVmi+1rkRS262JPbuANEED+iJSUouGHhp6loxkpYuPxEtiImJuIiIAiIgCYMnIWtHschVRS7E+gUDZJ/DUzzj+L/AOAZ3x/et/8A7bQtSG7I+4XiLEucV13B2begA3fQ38R9J15B+j9TRtIOqnIY1MBWtVPLkEJ5IEUMWXROvjqcrHynFNqVO132VHmXUXXuRULkW3nU+zTeUaw+6xb3T6ECaYMzPrLLMs2JBFz6K7abKbrfZhl6sdrGbHHLFtHFLCTtOXDezoOR8ZqHOdyjWW8Mc35/vWvalfMXKKlZlIIHA2cQTr6bCyMBPWE+GSnM1chzCh+Px4kkBv2gj8psSt7Mh1rLu1r7xaV5gvS/ltlOAzuwZ0UKRyfXLjtuxnb8G5HK3MUMCgNLKFsssrHJWBNT2feU8fUdtg/WHCyuFUu7EmyMlE48mC8mCLv4u3ov5zPK98xDZSLLLPah1E8kLOQKvNcVk174rXwCcW16/HZM++G7rGtxeVx8/b+01/bM/wBx+S2ox41qG48G0B2AXsxk9XZDrMyZ9T6pRjqGutWoMeK8jos3yUepP0E+YvVaLFrauxbFsYqhU7DMoJK7HoRxPr8pxerZFdGdXkX+7Ucc1JYVJSqznyYMw+5zHDuex8vXymhl9RLtVZiVtV5mVfptFFyXGFbqwr25LyVACw7+WCPgZCjdfLBzzJxEq98pxj3NTkvzHT72sCm5nW0KpVrTYT5VoPLQ0CQT8ANdXrVb02X11PcKzThvZqyxmFZyWS61SSWVvL5bK9/d2O4jBnYjrMtCa25CqyKTouSFHzIBYj9gJmXcg9eZWLqfZrL7Kvabd6cvW2sN24UEk81BAOjsB969O3HxMwtxCXWV88HJ5ult2VYtgWtg9q6Ueeu2PBACO4GhqFBtB1LFozi5HijCRmRr1DISrDTHTD1B0JzfBuUGe9F4uqitvNrustpYnkCqiz/o3HHbKCfvLs7nHr6klduUrdU9j1lXHyvLpOhy9dupPf19YUM389yXPJNfPIsMGfZB8jLb27tbb7H51fmNyPEZZT3KVfexUfs+SjtzKj+M4nOw+oOb8Y1MfMe3IVla+y2zZpvda8lCAlR5Kmk+HHt23GBh1Eiw8i9UUu7BFA2SToAfUzNKyzTRZhuEsybLfY+d48ywhbFepj54J2luy+lGuwbY0F176p1FfMdqrG2uRjBCcm17PJ5UgslSjj5LKSTYzNy5Ek+knqyHVsWVEgmHk8c4LzOQzZVwI8y6u6pSH0LKDtHpXWlf3R9wjZOzO5RqxeLuIiJBYREQBERAEREAREQBERAE+T7EA49PX6GcVjmA1jVK5RhW1q73Wr+hPusN+hKkAkz51HrHlZCVMAKzi5GSzdyV8lqRoAeva1j+QnL6f4WauxPdxyiXtaLDVu5lJZlr79lKlh9oDshfQb3N/rvRnut8xWAHseVjaO/v3Gkhu3wHlHf4iWajconKx6TxLjacnmgSrz9tW686idc6xrbd9DQ7+8vbuNl8S4/2oYWI9YrLI1Th/tSy1qo175YqQAu/rqaHiDo7FBZsnyscIAiGxvNW2m1XCDRdQae6g7I7Cc6vp12Zbk2uqqOOIK+VVgrZ6XvdkK2BWZSLdcgBotob4ndrR1+birlJOxIz4goC8mFikWinga28wWleSrxHzHcEdu/rMaeIqiUPLyxytSwWKysjVJzYE+i6HvbPYgjU1cbw+68G40VayVv41IQAi1snEt6u22J2QPXWu3fFneFmte7k4CW2ZBOt8gl2MmP2322OJMi0S15G+fFGOFdn8yoLX53v1OpanYXzEUjZ0WXY9RyGwNieLOuqHLOfJqTHe91euwW6V+PLXoB2PbRLch6a787/AAWsKOpXGrY0+SGrrILMWRjYzHugPD7g369ydCdHrHR7bbLLK7fKLYxoUjlyVi4fltdEDXbYOxvtDUSLzsbvT+r13O9YV0dFVyroUbg+wrjfqDxYfTXfU6cjfQ+h2U5Ft7cALKa6+KtY5BRnbk1lnd98/XtrX5ySSsrXyLRbtmIiJBYREQBERAEREAREQBERAEREAREQBERAEREAREQBPmp9iAIiIAiIgCIiAIiIAiIgCIiAIiIAiIgCIiAIiIAiIgCIiAIiIAiIgCIiAIiIAiIgCIiAIiIAiIgCIiAIiIAiIgCIiAIiIAiIgCIiAIiIAiIgCIiAIiIAiIgCIiAIiIAiIgCIiAIiIAiIgCIiAIiIAiIgCIiAIiIAiIgCIiAIiIAiIgCIiAIiIAiIgCIiAIiIAiIgH//Z)\n",
        "\n",
        "# **Programa de Ciencias de la Computación e Inteligencia Artificial**\n",
        "---\n",
        "\n",
        "### **Parcial #2**\n",
        "> **Profesor**: John Jairo Corredor Franco\n",
        "\n",
        "> **Autor**: Carlos Alberto Arévalo Martínez\n",
        "\n",
        "> **Fecha**: 28 de Abril de 2022\n",
        "\n",
        "> **Materia**: High Performance Computing 03 (HPC-03)\n",
        "\n",
        "> **Tema**: Regresión Lineal"
      ],
      "metadata": {
        "id": "9iAvTw9EkMVE"
      }
    },
    {
      "cell_type": "markdown",
      "source": [
        "En este apartado, se realizará la comprobación y demostración de los resultados obtenidos en la parte escrita del parcial sobre Regresión Lineal.\n",
        "\n",
        "**Indice**:\n",
        "\n",
        "\n",
        "1.   Regresión Lineal\n",
        "\n",
        "    1.1   Tipos de regresión lineal\n",
        "    \n",
        "2.   Método de los Mínimos Cuadrados Ordinarios (OLS)\n",
        "\n",
        "    2.1   Función de costo\n",
        "\n",
        "3. Método de Optimización del Gradiente Descendiente\n",
        "\n",
        "    3.1   Cálculo de coeficientes\n",
        "\n",
        "4. Métrica de Rendimiento $R^2$\n",
        "\n",
        "5. Conclusión\n",
        "\n",
        "6. Referencias\n",
        "\n"
      ],
      "metadata": {
        "id": "hb7CvP4flY8q"
      }
    },
    {
      "cell_type": "code",
      "source": [
        "# Se importan las bibliotecas necesarias\n",
        "import numpy as np\n",
        "import pandas as pd\n",
        "import matplotlib.pyplot as plt\n",
        "from sklearn.preprocessing import StandardScaler\n",
        "from sklearn.model_selection import train_test_split\n",
        "from sklearn.linear_model import LinearRegression\n",
        "from sklearn.pipeline import Pipeline\n",
        "from sklearn.metrics import r2_score"
      ],
      "metadata": {
        "id": "JytVHWBI-w0S"
      },
      "execution_count": null,
      "outputs": []
    },
    {
      "cell_type": "markdown",
      "source": [
        "## **1. Regresión Lineal**\n",
        "La regresión lineal, según IBM (s.f.), \"es una forma de análisis que se utiliza para predecir el valor de una variable según el valor de otra\" y \"ayuda a comprender y predecir el comportamiento de sistemas complejos\" (MathWorks, s.f.).\n",
        "\n",
        "La regresión lineal permite crear un modelo que describe la relación entre una variable dependiente $y$ (\"target\") como una función de una o más variables independientes $X_i$ (\"features\").\n",
        "\n",
        "La ecuación general que corresponde a un modelo de regresión lineal es:\n",
        "\n",
        "\\begin{align}\n",
        "Y = β_0 + \\sum_{i=1}^n β_iX_i + ϵ_i\n",
        "\\end{align}\n",
        "\n",
        "donde $β$ representa las estimaciones de parámetros lineales que se deben calcular y $ϵ$ representa los términos de error.\n",
        "\n",
        "> ### **1.1 Tipos de regresión lineal**\n",
        "\n",
        "Existen 4 tipos de regresión lineal: simple, múltiple, multivariante y múltiple multivariante.\n",
        "\n",
        "Para el presente ejercicio, se utilizará el tipo de **regresión lineal simple**, que permite crear modelos que utilizan un único predictor. La ecuación general es:\n",
        "\n",
        "\\begin{align}\n",
        "Y = β_0 + β_iX + ϵ_i\n",
        "\\end{align}\n",
        "\n",
        "La anterior ecuación se puede demostrar de la siguiente forma:\n",
        "\n",
        "\\begin{align}\n",
        "y = mX + b + ϵ_i\n",
        "\\end{align}\n",
        "\n",
        "donde $b$ representa la constante del modelo (también llamada intercepto), que es el punto donde corta el eje de cordenadas $y$ cuando el valor de la variable $X$ es cero.\n",
        "\n",
        "Por otra parte, $m$, representa la pendiente (inclinación) de la recta de regresión. Este coeficiente significa el incremento de unidades de la variable $y$ que se produce por cada incremento de una unidad de la variable $X$."
      ],
      "metadata": {
        "id": "mJbovCNOp3kt"
      }
    },
    {
      "cell_type": "code",
      "source": [
        "# Se crea un diccionario con los valores de X e y\n",
        "X = np.array([24, 21, 59, 17, 33, 40, 19, 45, 28, 34])\n",
        "y = np.array([2400, 2700, 3250, 1600, 1800, 3600, 2100, 2600, 2000, 3500])"
      ],
      "metadata": {
        "id": "7jODQ0EO_MM0"
      },
      "execution_count": null,
      "outputs": []
    },
    {
      "cell_type": "code",
      "source": [
        "plt.figure(figsize=(13, 6))\n",
        "plt.scatter(X, y)\n",
        "plt.title(\"y vs X\")\n",
        "plt.ylabel(r'y')\n",
        "plt.xlabel('X')\n",
        "plt.show()"
      ],
      "metadata": {
        "colab": {
          "base_uri": "https://localhost:8080/",
          "height": 404
        },
        "id": "4-r2O6ulBA1F",
        "outputId": "2bb5a0c6-81c6-40fd-f770-e024e54c933c"
      },
      "execution_count": null,
      "outputs": [
        {
          "output_type": "display_data",
          "data": {
            "text/plain": [
              "<Figure size 936x432 with 1 Axes>"
            ],
            "image/png": "[encoded data removed]"
          },
          "metadata": {
            "needs_background": "light"
          }
        }
      ]
    },
    {
      "cell_type": "markdown",
      "source": [
        "## **2. Método de los Mínimos Cuadrados Ordinarios (OLS)**\n",
        "> El método de los mínimos cuadrados ordinarios se utiliza para calcular la recta de regresión lineal que minimiza los residuos.\n",
        "\n",
        "El componente estocástico de la ecuación, $ϵ_i$, representa el error en la estimación; la diferencia entre el valor real de $y$ en la nube de puntos y el valor estimado, representado como $\\hat{y}$. Se puede representar matemáticamente como:\n",
        "\n",
        "\\begin{align}\n",
        "e_i = y_i - \\hat{y_i}\n",
        "\\end{align}\n",
        "\n",
        "Los valores de las variables $X$ e $y$ ya se encuentran en la nube de puntos para la que se quiere calcular la recta. Lo que varía en la ecuación de la recta son los coeficientes del modelo, $b$ y $m$, aquellos con los se espera que el valor de la suma de residuos sea el menor posible.\n",
        "\n",
        "Partiendo de la ecuación anterior de cada residuo, se puede representar la suma de residuos de la siguiente forma, donde $n$ es el número de pares de valores de $X$ e $y$ que se dispone:\n",
        "\n",
        "\\begin{align}\n",
        "\\sum_{i=1}^n e_i = \\sum_{i=1}^n y_i - \\hat{y_i}\n",
        "\\end{align}\n",
        "\n",
        "El resultado de la diferencia de la fórmula anterior puede arrojar valores tanto positivos como negativos. Por este motivo, se deben calcular estas diferencias elevadas al cuadrado, según la siguiente fórmula:\n",
        "\n",
        "\\begin{align}\n",
        "\\sum_{i=1}^n e_i^2 = \\sum_{i=1}^n (y_i - \\hat{y_i})^2\n",
        "\\end{align}\n",
        "\n",
        "Según la fórmula anterior, definimos el error cuadrático como $Se$:\n",
        "\n",
        "\\begin{align}\n",
        "Se = \\sum_{i=1}^n e_i^2 = \\sum_{i=1}^n (y_i - \\hat{y_i})^2\n",
        "\\end{align}\n",
        "\n",
        "> ### **2.1 Función de costo**\n",
        "\n",
        "Para calcular los coeficientes de la recta de regresión se debe sustituir el valor estimado $\\hat{y}$, por los términos de la ecuación de la recta de regresión, y así encontrar los valores de $b$ y $m$ que minimicen la **función de costo**:\n",
        "\n",
        "\\begin{align}\n",
        "Se = \\sum_{i=1}^n (y_i - \\hat{y_i})^2 = \\sum_{i=1}^n (y_i - (mX_i + b))^2\n",
        "\\end{align}\n",
        "\n",
        "La anterior fórmula se puede resolver como:\n",
        "\n",
        "\\begin{align}\n",
        "Se = \\sum_{i=1}^n (y_i - mX_i - b)^2\n",
        "\\end{align}\n",
        "\n",
        "Al realizar la sumatoria de la anterior fórmula, la **función de costo** se puede simplificar en:\n",
        "\n",
        "\\begin{align}\n",
        "Se = n\\bar{y^2} - 2mn\\bar{X}y - 2bn\\bar{y} + m^2n\\bar{X^2} + 2mbn\\bar{X} + nb^2\n",
        "\\end{align}"
      ],
      "metadata": {
        "id": "Xbfk3BMWkL9S"
      }
    },
    {
      "cell_type": "markdown",
      "source": [
        "## **3. Método de Optimización del Gradiente Descendiente**\n",
        "> El Gradiente Descendiente es un algoritmo de optimización que permite determinar el mínimo de una función matemática. El gradiente es sinónimo de pendiente o inclinación, y matemáticamente recibe el nombre de derivada.\n",
        "\n",
        "Para minimizar la función de costo, se procede a utilizar el método de optimización del gradiente descendiente, que permite encontrar el mejor valor para los coeficientes $m$ y $b$. Con base en esto, se igualan a cero las derivadas parciales con respecto a $m$ y respecto a $b$, de la siguiente manera:\n",
        "\n",
        "\\begin{align}\n",
        "\\frac{\\partial{Se}}{\\partial{m}} = 0\n",
        "\\end{align}\n",
        "\n",
        "\\begin{align}\n",
        "\\frac{\\partial{Se}}{\\partial{b}} = 0\n",
        "\\end{align}\n",
        "\n",
        "> ### **3.1 Cálculo de coeficientes**\n",
        "\n",
        "Al despejar $m$ y $b$ de las derivadas parciales, se obtienen las siguientes ecuaciones para hallar sus valores:\n",
        "\n",
        "\\begin{align}\n",
        "m = \\frac{\\bar{Xy} - \\bar{X} \\bar{y}}{\\bar{X^2} - (\\bar{X})^2}\n",
        "\\end{align}\n",
        "\n",
        "\\begin{align}\n",
        "b = \\bar{y} - m\\bar{X}\n",
        "\\end{align}"
      ],
      "metadata": {
        "id": "JcbU20ifjWtT"
      }
    },
    {
      "cell_type": "code",
      "source": [
        "reg = LinearRegression()"
      ],
      "metadata": {
        "id": "79h0uzxTD_2T"
      },
      "execution_count": null,
      "outputs": []
    },
    {
      "cell_type": "code",
      "source": [
        "reg.fit(X.reshape(-1, 1), y.reshape(-1, 1))"
      ],
      "metadata": {
        "colab": {
          "base_uri": "https://localhost:8080/"
        },
        "id": "-ruHGt4FEBTK",
        "outputId": "6d8eda15-16d2-46f3-a692-252eff2320db"
      },
      "execution_count": null,
      "outputs": [
        {
          "output_type": "execute_result",
          "data": {
            "text/plain": [
              "LinearRegression()"
            ]
          },
          "metadata": {},
          "execution_count": 98
        }
      ]
    },
    {
      "cell_type": "code",
      "source": [
        "# Se realiza el cálculo de los coeficientes\n",
        "m = reg.coef_ # pendiente\n",
        "b = reg.intercept_ # punto de corte\n",
        "\n",
        "print(f\"Pendiente = {m[0][0]}\\n\"\\\n",
        "      f\"Punto de corte = {b[0]}\")"
      ],
      "metadata": {
        "colab": {
          "base_uri": "https://localhost:8080/"
        },
        "id": "dhoSyK8WDo3i",
        "outputId": "ecf3db6e-40b1-42d9-dc6b-4a990eb858b0"
      },
      "execution_count": null,
      "outputs": [
        {
          "output_type": "stream",
          "name": "stdout",
          "text": [
            "Pendiente = 32.61843790012804\n",
            "Punto de corte = 1511.2099871959026\n"
          ]
        }
      ]
    },
    {
      "cell_type": "code",
      "source": [
        "line = np.array([m*X + b])"
      ],
      "metadata": {
        "id": "yPyYRIWmKXXD"
      },
      "execution_count": null,
      "outputs": []
    },
    {
      "cell_type": "code",
      "source": [
        "plt.figure(figsize=(13, 6))\n",
        "plt.plot(X, line[0][0])\n",
        "plt.scatter(X, y)\n",
        "plt.title(\"Regresión Lineal de y vs X\")\n",
        "plt.ylabel(r'y')\n",
        "plt.xlabel('X')\n",
        "plt.show()"
      ],
      "metadata": {
        "colab": {
          "base_uri": "https://localhost:8080/",
          "height": 404
        },
        "id": "o2kxtkOKKeYc",
        "outputId": "7f95d2d6-342f-400a-ca45-8c42070508b1"
      },
      "execution_count": null,
      "outputs": [
        {
          "output_type": "display_data",
          "data": {
            "text/plain": [
              "<Figure size 936x432 with 1 Axes>"
            ],
            "image/png": "[encoded data removed]"
          },
          "metadata": {
            "needs_background": "light"
          }
        }
      ]
    },
    {
      "cell_type": "code",
      "source": [
        "# Predicciones\n",
        "y_hat = reg.predict(X.reshape(-1, 1)) #y_predict\n",
        "print(f\"Predicciones:\\n\")\n",
        "for idx, val in enumerate(X):\n",
        "    print(f\"f({val}) = {y_hat[idx][0]:.3f}\")"
      ],
      "metadata": {
        "colab": {
          "base_uri": "https://localhost:8080/"
        },
        "id": "lLpWiKl-MpWj",
        "outputId": "1c7b72b2-485a-4279-c3ea-b6aae532b475"
      },
      "execution_count": null,
      "outputs": [
        {
          "output_type": "stream",
          "name": "stdout",
          "text": [
            "Predicciones:\n",
            "\n",
            "f(24) = 2294.052\n",
            "f(21) = 2196.197\n",
            "f(59) = 3435.698\n",
            "f(17) = 2065.723\n",
            "f(33) = 2587.618\n",
            "f(40) = 2815.948\n",
            "f(19) = 2130.960\n",
            "f(45) = 2979.040\n",
            "f(28) = 2424.526\n",
            "f(34) = 2620.237\n"
          ]
        }
      ]
    },
    {
      "cell_type": "markdown",
      "source": [
        "## **4. Métrica de Rendimiento $R^2$**\n",
        "$R^2$, el coeficiente de determinación, determina la capacidad de un modelo para predecir futuros resultados. El mejor resultado posible es 1.0, y ocurre cuando la predicción coincide con los valores de la variable objetivo. Se define como 1 menos la suma de cuadrados totales dividido por la suma de cuadrados de los residuos:\n",
        "\n",
        "\\begin{align}\n",
        "R^2 = 1 - \\frac{\\sum_{i=1}^n (y_i - \\hat{y_i})^2}{\\sum_{i=1}^n (y_i - \\bar{y})^2}\n",
        "\\end{align}\n",
        "\n",
        "Para utilizar la métrica r2_score se debe realizar primero los cálculos de $\\hat{y}$"
      ],
      "metadata": {
        "id": "ILEdniy_c0Rf"
      }
    },
    {
      "cell_type": "code",
      "source": [
        "# Se convierte la matriz en vector para realizar los cálculos\n",
        "y_hat = y_hat.flatten()"
      ],
      "metadata": {
        "id": "PWbchZAMj1nV"
      },
      "execution_count": null,
      "outputs": []
    },
    {
      "cell_type": "code",
      "source": [
        "# Se utiliza la ecuación de r2\n",
        "r2 = 1 - (((y-y_hat)**2).sum()/((y-y.mean())**2).sum())\n",
        "print(f\"Métrica de rendimiento función R2 {r2}\")"
      ],
      "metadata": {
        "colab": {
          "base_uri": "https://localhost:8080/"
        },
        "id": "in9zRS9DiuA2",
        "outputId": "6c5d52ea-a813-4649-d9f0-ab9737b25ce1"
      },
      "execution_count": null,
      "outputs": [
        {
          "output_type": "stream",
          "name": "stdout",
          "text": [
            "Métrica de rendimiento función R2 0.3683105792036174\n"
          ]
        }
      ]
    },
    {
      "cell_type": "code",
      "source": [
        "# Se utiliza la métrica de rendimiento r2_score\n",
        "r2 = r2_score(y, y_hat)\n",
        "print(f\"Métrica de rendimiento SK (r2_score) {r2}\")"
      ],
      "metadata": {
        "colab": {
          "base_uri": "https://localhost:8080/"
        },
        "id": "DBY9vnqQOSsl",
        "outputId": "45948461-7520-4eaf-b366-51a5498a035e"
      },
      "execution_count": null,
      "outputs": [
        {
          "output_type": "stream",
          "name": "stdout",
          "text": [
            "Métrica de rendimiento SK (r2_score) 0.3683105792036174\n"
          ]
        }
      ]
    },
    {
      "cell_type": "markdown",
      "source": [
        "O se puede utilizar directamente la métrica mediante la función score() del modelo de regresión lineal"
      ],
      "metadata": {
        "id": "qZtXwDxKQDnf"
      }
    },
    {
      "cell_type": "code",
      "source": [
        "# Se utiliza la métrica de rendimiento r2_score de lal modelo LR\n",
        "lr_score = reg.score(X.reshape(-1, 1), y.reshape(-1, 1))\n",
        "print(f\"Métrica de rendimiento SK (r2_score de linear regression) {lr_score}\")"
      ],
      "metadata": {
        "colab": {
          "base_uri": "https://localhost:8080/"
        },
        "id": "bqcfDEhqEHph",
        "outputId": "f790d8d5-4747-45bd-bd7e-3647ddac3875"
      },
      "execution_count": null,
      "outputs": [
        {
          "output_type": "stream",
          "name": "stdout",
          "text": [
            "Métrica de rendimiento SK (r2_score de linear regression) 0.3683105792036174\n"
          ]
        }
      ]
    },
    {
      "cell_type": "markdown",
      "source": [
        "## **5. Conclusión**\n",
        "La línea de regresión encontrada para este ejercicio no fue la mejor, la métrica de rendimiento demuestra solo el 36.83% de efectividad.\n",
        "\n",
        "Según lo anterior, para mejorar su efectividad se recomienda aplicar el método de optimización del Gradiente Descendiente con varias iteraciones y una tasa de aprendizaje, para así, minimizar la función de costo, encontrando los mejores coeficientes $m$ y $b$, pendiente y punto de corte, respectivamente."
      ],
      "metadata": {
        "id": "DI5DFBFtT-V5"
      }
    },
    {
      "cell_type": "markdown",
      "source": [
        "## **6. Referencias**\n",
        "> IBM. (s.f.). Regresión lineal. Obtenido de IBM: https://www.ibm.com/co-es/analytics/learn/linear-regression\n",
        "\n",
        "> The MathWorks, Inc. (s.f.). ¿Qué es la regresión lineal? Obtenido de MathWorks: https://la.mathworks.com/discovery/linear-regression.html\n",
        "\n",
        "> Molina, M. (17 de 6 de 2020). La distancia más corta. El método de los mínimos cuadrados. Obtenido de Anestesiar: https://anestesiar.org/2020/la-distancia-mas-corta-el-metodo-de-los-minimos-cuadrados/\n",
        "\n",
        "> Sotaquirá, M. (2 de 7 de 2018). ¿Qué es el Gradiente Descendente? Obtenido de CodificandoBits: https://www.codificandobits.com/blog/el-gradiente-descendente/\n",
        "\n",
        "> InteractiveChaos. (s.f.). R2. Obtenido de InteractiveChaos: https://interactivechaos.com/es/manual/tutorial-de-machine-learning/r2\n"
      ],
      "metadata": {
        "id": "23pPz4vS6sFX"
      }
    }
  ]
}